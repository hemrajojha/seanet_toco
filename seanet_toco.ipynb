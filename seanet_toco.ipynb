{
  "cells": [
    {
      "cell_type": "markdown",
      "metadata": {
        "id": "Dehsn6kBBDWf"
      },
      "source": [
        "# 🧠 SeaNet Ontology on Google Colab\n",
        "Load, manipulate, and query the SeaNet RDF knowledge graph without installing Neo4j or needing admin rights."
      ]
    },
    {
      "cell_type": "code",
      "source": [
        "from google.colab import drive\n",
        "drive.mount('/content/drive')\n"
      ],
      "metadata": {
        "colab": {
          "base_uri": "https://localhost:8080/"
        },
        "id": "J0a5fuXxEV4v",
        "outputId": "71f3880d-f98f-44e3-cc8b-c3d36917de96"
      },
      "execution_count": 1,
      "outputs": [
        {
          "output_type": "stream",
          "name": "stdout",
          "text": [
            "Drive already mounted at /content/drive; to attempt to forcibly remount, call drive.mount(\"/content/drive\", force_remount=True).\n"
          ]
        }
      ]
    },
    {
      "cell_type": "code",
      "execution_count": 2,
      "metadata": {
        "colab": {
          "base_uri": "https://localhost:8080/"
        },
        "id": "0Jz2Q_DWBDWj",
        "outputId": "380460c9-3822-410f-9124-f3bbdb46af31"
      },
      "outputs": [
        {
          "output_type": "stream",
          "name": "stdout",
          "text": [
            "Requirement already satisfied: rdflib in /usr/local/lib/python3.11/dist-packages (7.1.4)\n",
            "Requirement already satisfied: pyparsing<4,>=2.1.0 in /usr/local/lib/python3.11/dist-packages (from rdflib) (3.2.3)\n"
          ]
        }
      ],
      "source": [
        "# ✅ Install required packages\n",
        "!pip install rdflib"
      ]
    },
    {
      "cell_type": "code",
      "source": [
        "import sys\n",
        "sys.path.append(\"/content/drive/MyDrive/Colab Notebooks/toco/seanet_colab/\")"
      ],
      "metadata": {
        "id": "Cs3HolhMCJpL"
      },
      "execution_count": 4,
      "outputs": []
    },
    {
      "cell_type": "code",
      "execution_count": 5,
      "metadata": {
        "id": "XcNdNUCmBDWk"
      },
      "outputs": [],
      "source": [
        "# ✅ Import libraries\n",
        "from rdflib import Graph, Namespace\n",
        "from generator.generate_kb import *\n",
        "from api.seanet_api import *\n",
        "from pathlib import Path"
      ]
    },
    {
      "cell_type": "code",
      "execution_count": 6,
      "metadata": {
        "id": "IUR86T3jBDWl",
        "colab": {
          "base_uri": "https://localhost:8080/"
        },
        "outputId": "ee23060b-319f-4f5d-f86e-442f766710bf"
      },
      "outputs": [
        {
          "output_type": "stream",
          "name": "stdout",
          "text": [
            "RDF Triples: 2\n"
          ]
        }
      ],
      "source": [
        "# ✅ Generate RDF Knowledge Graph\n",
        "generate_kb = Path('/content/drive/MyDrive/Colab Notebooks/toco/seanet_colab/generator/generate_kb.py')\n",
        "exec(generate_kb.read_text())\n",
        "g = Graph().parse(\"seanet.rdf\", format=\"turtle\")\n",
        "print(\"RDF Triples:\", len(g))"
      ]
    },
    {
      "cell_type": "code",
      "execution_count": 14,
      "metadata": {
        "id": "oT5Ls2FaBDWl",
        "colab": {
          "base_uri": "https://localhost:8080/"
        },
        "outputId": "9fc38cae-2b1f-4db5-b114-1dfb1b433104"
      },
      "outputs": [
        {
          "output_type": "stream",
          "name": "stdout",
          "text": [
            "After operations: 1\n"
          ]
        }
      ],
      "source": [
        "# ✅ Connect all hosts & block one\n",
        "connect_all_hosts(g)\n",
        "#block_hosts(g, [\"host1\"])\n",
        "print(\"After operations:\", len(g))"
      ]
    },
    {
      "cell_type": "code",
      "execution_count": 15,
      "metadata": {
        "id": "0RQ8VEtRBDWl"
      },
      "outputs": [],
      "source": [
        "# ✅ Run SPARQL query\n",
        "sparql_query = Path(\"/content/drive/MyDrive/Colab Notebooks/toco/seanet_colab/sparql/queries.rq\").read_text()\n",
        "for row in g.query(sparql_query):\n",
        "    print(row)"
      ]
    },
    {
      "cell_type": "code",
      "source": [
        "# ✅ Run SPARQL query\n",
        "sparql_query_ad =  Path(\"/content/drive/MyDrive/Colab Notebooks/toco/seanet_colab/sparql/queries1.rq\").read_text()\n",
        "for row in g.query(sparql_query_ad):\n",
        "    print(row)"
      ],
      "metadata": {
        "id": "zqAw-ETYDKxZ"
      },
      "execution_count": 16,
      "outputs": []
    },
    {
      "cell_type": "code",
      "source": [
        "from export_rdf_graph import export_rdf_as_png\n"
      ],
      "metadata": {
        "id": "ky2yaCclIkYh"
      },
      "execution_count": 9,
      "outputs": []
    },
    {
      "cell_type": "code",
      "source": [
        "import networkx as nx\n",
        "import matplotlib.pyplot as plt\n",
        "from rdflib import Graph\n",
        "\n",
        "def export_rdf_as_png(rdf_graph: Graph, output_path=\"seanet_rdf_graph.png\"):\n",
        "    G = nx.DiGraph()\n",
        "    for s, p, o in rdf_graph:\n",
        "        G.add_edge(str(s), str(o), label=str(p))\n",
        "\n",
        "    pos = nx.spring_layout(G, seed=42)\n",
        "    edge_labels = nx.get_edge_attributes(G, 'label')\n",
        "\n",
        "    plt.figure(figsize=(8, 5))\n",
        "    nx.draw(G, pos, with_labels=True, node_color='lightblue', node_size=2000, font_size=8, arrows=True)\n",
        "    nx.draw_networkx_edge_labels(G, pos, edge_labels=edge_labels, font_size=7)\n",
        "    plt.axis(\"off\")\n",
        "    #plt.tight_layout()\n",
        "    plt.savefig(output_path, dpi=300)\n",
        "    print(f\"✅ Graph saved as {output_path}\")"
      ],
      "metadata": {
        "id": "4ZiUEpFGYsZm"
      },
      "execution_count": 17,
      "outputs": []
    },
    {
      "cell_type": "code",
      "source": [
        "export_rdf_as_png(g, \"seanet_rdf_graph.png\")\n"
      ],
      "metadata": {
        "colab": {
          "base_uri": "https://localhost:8080/",
          "height": 553
        },
        "id": "KMtVMa1BYvXL",
        "outputId": "96da5904-ef09-435b-e0ca-dee3900c6e62"
      },
      "execution_count": 18,
      "outputs": [
        {
          "output_type": "stream",
          "name": "stdout",
          "text": [
            "✅ Graph saved as seanet_rdf_graph.png\n"
          ]
        },
        {
          "output_type": "display_data",
          "data": {
            "text/plain": [
              "<Figure size 800x500 with 1 Axes>"
            ],
            "image/png": "[encoded data removed]"
          },
          "metadata": {}
        }
      ]
    }
  ],
  "metadata": {
    "kernelspec": {
      "display_name": "Python 3",
      "language": "python",
      "name": "python3"
    },
    "language_info": {
      "name": "python",
      "version": "3.x"
    },
    "colab": {
      "provenance": []
    }
  },
  "nbformat": 4,
  "nbformat_minor": 0
}